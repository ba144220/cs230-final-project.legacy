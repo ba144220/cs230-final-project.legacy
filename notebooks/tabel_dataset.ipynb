{
 "cells": [
  {
   "cell_type": "code",
   "execution_count": 48,
   "metadata": {},
   "outputs": [],
   "source": [
    "from dataclasses import dataclass\n",
    "import pandas as pd\n",
    "import os\n",
    "from typing import Optional\n",
    "from enum import Enum\n"
   ]
  },
  {
   "cell_type": "code",
   "execution_count": 49,
   "metadata": {},
   "outputs": [],
   "source": [
    "class TaskEnum(Enum):\n",
    "    ARITHMETIC = \"arithmetic\"\n",
    "    LIST_ITEMS = \"list_items\"\n",
    "\n",
    "class DirectionEnum(Enum):\n",
    "    ROW = \"row\"\n",
    "    COLUMN = \"column\"\n",
    "\n",
    "@dataclass\n",
    "class DatasetOutput:\n",
    "    question: str\n",
    "    answer: str\n",
    "    context: str\n",
    "    id: Optional[str] = None\n",
    "    task: Optional[TaskEnum] = None\n",
    "    direction: Optional[DirectionEnum] = None\n",
    "    size: Optional[str] = None"
   ]
  },
  {
   "cell_type": "code",
   "execution_count": 53,
   "metadata": {},
   "outputs": [],
   "source": [
    "class DatasetReader:\n",
    "    def __init__(self, dataset_name: str, dataset_split_type: str, table_ext: str):\n",
    "        self.dataset_name = dataset_name\n",
    "        self.dataset_split_type = dataset_split_type\n",
    "        self.table_ext = table_ext\n",
    "        self.root_path = \"../datasets\"\n",
    "\n",
    "    def read_table(self, table_name: str):\n",
    "        if not table_name:\n",
    "            return \"\"\n",
    "        if table_name.endswith('.csv'):\n",
    "            table_name = table_name[:-4]\n",
    "\n",
    "        file_path = os.path.join(self.root_path, self.dataset_name, table_name + self.table_ext)\n",
    "        if not os.path.exists(file_path):\n",
    "            raise FileNotFoundError(f\"The file {file_path} does not exist in the path {self.root_path}\")\n",
    "        with open(file_path, 'r', encoding='utf-8') as file:\n",
    "            file_content = file.read()\n",
    "\n",
    "        return file_content\n",
    "\n",
    "    def read_file(self):\n",
    "        file_path = os.path.join(self.root_path, self.dataset_name, 'data', self.dataset_split_type + '.csv')\n",
    "        if not os.path.exists(file_path):\n",
    "            raise FileNotFoundError(f\"The file {file_path} does not exist in the path {self.root_path}\")\n",
    "        df = pd.read_csv(file_path)\n",
    "        df = df.dropna(subset=['question', 'answer', 'context', 'id'])\n",
    "\n",
    "        outputs = []\n",
    "        for index, row in df.iterrows():\n",
    "            context = self.read_table(row['context'])\n",
    "            task = TaskEnum(row['task']) if row['task'] in TaskEnum._value2member_map_ else None\n",
    "            direction = DirectionEnum(row['direction']) if row['direction'] in DirectionEnum._value2member_map_ else None\n",
    "            output = DatasetOutput(\n",
    "                question=row['question'],\n",
    "                answer=row['answer'],\n",
    "                context=context,\n",
    "                id=row['id'],\n",
    "                task=task,\n",
    "                direction=direction,\n",
    "                size=row['size'] if pd.notna(row['size']) else None  # Convert NaN to None\n",
    "            )\n",
    "            outputs.append(output)\n",
    "\n",
    "        return outputs"
   ]
  },
  {
   "cell_type": "code",
   "execution_count": 54,
   "metadata": {},
   "outputs": [
    {
     "name": "stdout",
     "output_type": "stream",
     "text": [
      "4300\n"
     ]
    }
   ],
   "source": [
    "#usage test self_generated\n",
    "reader = DatasetReader(dataset_name='self_generated', dataset_split_type='test', table_ext='.csv')\n",
    "outputs = reader.read_file()\n",
    "print(len(outputs))"
   ]
  },
  {
   "cell_type": "code",
   "execution_count": 55,
   "metadata": {},
   "outputs": [
    {
     "name": "stdout",
     "output_type": "stream",
     "text": [
      "4344\n",
      "DatasetOutput(question='which country had the most cyclists finish within the top 10?', answer='Italy', context='\"Rank\",\"Cyclist\",\"Team\",\"Time\",\"UCI ProTour\\nPoints\"\\n\"1\",\"Alejandro Valverde (ESP)\",\"Caisse d\\'Epargne\",\"5h 29\\' 10\\\\\"\",\"40\"\\n\"2\",\"Alexandr Kolobnev (RUS)\",\"Team CSC Saxo Bank\",\"s.t.\",\"30\"\\n\"3\",\"Davide Rebellin (ITA)\",\"Gerolsteiner\",\"s.t.\",\"25\"\\n\"4\",\"Paolo Bettini (ITA)\",\"Quick Step\",\"s.t.\",\"20\"\\n\"5\",\"Franco Pellizotti (ITA)\",\"Liquigas\",\"s.t.\",\"15\"\\n\"6\",\"Denis Menchov (RUS)\",\"Rabobank\",\"s.t.\",\"11\"\\n\"7\",\"Samuel Sánchez (ESP)\",\"Euskaltel-Euskadi\",\"s.t.\",\"7\"\\n\"8\",\"Stéphane Goubert (FRA)\",\"Ag2r-La Mondiale\",\"+ 2\\\\\"\",\"5\"\\n\"9\",\"Haimar Zubeldia (ESP)\",\"Euskaltel-Euskadi\",\"+ 2\\\\\"\",\"3\"\\n\"10\",\"David Moncoutié (FRA)\",\"Cofidis\",\"+ 2\\\\\"\",\"1\"\\n', id='nu-0', task=None, direction=None, size=None)\n"
     ]
    }
   ],
   "source": [
    "# usage test wtq\n",
    "reader = DatasetReader(dataset_name='wtq', dataset_split_type='test', table_ext='.csv')\n",
    "outputs = reader.read_file()\n",
    "print(len(outputs))\n",
    "print(outputs[0])"
   ]
  },
  {
   "cell_type": "code",
   "execution_count": null,
   "metadata": {},
   "outputs": [],
   "source": []
  }
 ],
 "metadata": {
  "kernelspec": {
   "display_name": "cs230",
   "language": "python",
   "name": "python3"
  },
  "language_info": {
   "codemirror_mode": {
    "name": "ipython",
    "version": 3
   },
   "file_extension": ".py",
   "mimetype": "text/x-python",
   "name": "python",
   "nbconvert_exporter": "python",
   "pygments_lexer": "ipython3",
   "version": "3.11.10"
  }
 },
 "nbformat": 4,
 "nbformat_minor": 2
}
