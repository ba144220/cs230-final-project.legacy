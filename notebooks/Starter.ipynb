{
 "cells": [
  {
   "cell_type": "code",
   "execution_count": 3,
   "id": "80b0b9d5",
   "metadata": {
    "vscode": {
     "languageId": "r"
    }
   },
   "outputs": [],
   "source": [
    "import os\n",
    "from transformers import AutoTokenizer, LlamaForCausalLM\n",
    "from dotenv import load_dotenv\n",
    "import pandas as pd\n",
    "import numpy as np\n",
    "import matplotlib.pyplot as plt\n",
    "import string\n",
    "\n",
    "load_dotenv()\n",
    "\n",
    "MODEL_NAME = \"meta-llama/Llama-3.2-1B-Instruct\"\n",
    "\n",
    "tokenizer = AutoTokenizer.from_pretrained(MODEL_NAME, token=os.getenv(\"HF_TOKEN\"))\n",
    "model = LlamaForCausalLM.from_pretrained(MODEL_NAME, token=os.getenv(\"HF_TOKEN\"))\n"
   ]
  },
  {
   "cell_type": "code",
   "execution_count": 4,
   "id": "03564e35",
   "metadata": {
    "vscode": {
     "languageId": "r"
    }
   },
   "outputs": [
    {
     "data": {
      "text/plain": [
       "LlamaForCausalLM(\n",
       "  (model): LlamaModel(\n",
       "    (embed_tokens): Embedding(128256, 2048)\n",
       "    (layers): ModuleList(\n",
       "      (0-15): 16 x LlamaDecoderLayer(\n",
       "        (self_attn): LlamaSdpaAttention(\n",
       "          (q_proj): Linear(in_features=2048, out_features=2048, bias=False)\n",
       "          (k_proj): Linear(in_features=2048, out_features=512, bias=False)\n",
       "          (v_proj): Linear(in_features=2048, out_features=512, bias=False)\n",
       "          (o_proj): Linear(in_features=2048, out_features=2048, bias=False)\n",
       "          (rotary_emb): LlamaRotaryEmbedding()\n",
       "        )\n",
       "        (mlp): LlamaMLP(\n",
       "          (gate_proj): Linear(in_features=2048, out_features=8192, bias=False)\n",
       "          (up_proj): Linear(in_features=2048, out_features=8192, bias=False)\n",
       "          (down_proj): Linear(in_features=8192, out_features=2048, bias=False)\n",
       "          (act_fn): SiLU()\n",
       "        )\n",
       "        (input_layernorm): LlamaRMSNorm((2048,), eps=1e-05)\n",
       "        (post_attention_layernorm): LlamaRMSNorm((2048,), eps=1e-05)\n",
       "      )\n",
       "    )\n",
       "    (norm): LlamaRMSNorm((2048,), eps=1e-05)\n",
       "    (rotary_emb): LlamaRotaryEmbedding()\n",
       "  )\n",
       "  (lm_head): Linear(in_features=2048, out_features=128256, bias=False)\n",
       ")"
      ]
     },
     "execution_count": 4,
     "metadata": {},
     "output_type": "execute_result"
    }
   ],
   "source": [
    "model"
   ]
  },
  {
   "cell_type": "code",
   "execution_count": 6,
   "id": "5beedeb9-4697-4cef-8b14-f5e8b1e67ec7",
   "metadata": {},
   "outputs": [
    {
     "data": {
      "text/plain": [
       "'\\nGenerate the dataset -> CSV / TSV / … etc formats \\nSize of the table \\nAcross various sizes / dims of the table (N x N, N x M etc)\\nQuestions / Answers per tables?\\nColumn operations / Row operations (1 : 1) \\nTasks\\nArithmetic\\nSum / Min / Max for a row / col\\nListing\\nJust list Row / Col \\nEtc \\n'"
      ]
     },
     "execution_count": 6,
     "metadata": {},
     "output_type": "execute_result"
    }
   ],
   "source": [
    "\"\"\"\n",
    "Generate the dataset -> CSV / TSV / … etc formats \n",
    "Size of the table \n",
    "Across various sizes / dims of the table (N x N, N x M etc)\n",
    "Questions / Answers per tables?\n",
    "Column operations / Row operations (1 : 1) \n",
    "Tasks\n",
    "Arithmetic\n",
    "Sum / Min / Max for a row / col\n",
    "Listing\n",
    "Just list Row / Col \n",
    "Etc \n",
    "\"\"\""
   ]
  },
  {
   "cell_type": "code",
   "execution_count": 7,
   "id": "b57d14f9-7d54-4a9f-98bd-7e3f631280ca",
   "metadata": {},
   "outputs": [],
   "source": [
    "\"\"\"\n",
    "df: dataframe\n",
    "path: str path the store df\n",
    "\"\"\"\n",
    "def to_csv(df, path):\n",
    "    return df.to_csv(path)\n",
    "\n",
    "def to_html(df, path):\n",
    "    return df.to_html(path)\n",
    "\n",
    "def to_tsv(df, path):\n",
    "    return df.to_csv(path, sep='\\t')\n",
    "    \n",
    "\"\"\"\n",
    "df_type: data frame type to be returned any of (csv, html, table, tsv)\n",
    "task: QA task to be performed any of (arithmetic, item)\n",
    "row_size: row size of the dataset\n",
    "col_size: col size of the dataset\n",
    "file_name: name of file\n",
    "\"\"\"\n",
    "def generate_dataset(df_type, task, row_size, col_size, file_name):\n",
    "    columns = ['Col ' + str(i+1) for i in range(col_size)]\n",
    "    rows = ['Row ' + str(i+1) for i in range(row_size)]\n",
    "    if task == 'arithmetic': \n",
    "        df = pd.DataFrame(np.random.randint(0, 100, size=(row_size, col_size)), columns=columns, index=rows)\n",
    "    elif task == 'item':\n",
    "        df = pd.DataFrame(np.random.choice(list(string.ascii_uppercase), size=(row_size, col_size)), columns=columns, index=rows)\n",
    "    df_type_dict = {'csv': to_csv, 'html': to_html, 'tsv': to_tsv}\n",
    "    path = './generated_data/' + file_name + '.' + df_type \n",
    "    return df_type_dict[df_type](df, path)"
   ]
  },
  {
   "cell_type": "code",
   "execution_count": 8,
   "id": "69d9cbb7-0188-4b97-81ec-eb37c621a603",
   "metadata": {},
   "outputs": [],
   "source": [
    "generate_dataset('tsv', 'arithmetic', 100, 100, 'out_arithmetic')\n",
    "generate_dataset('csv', 'arithmetic', 100, 100, 'out_arithmetic')\n",
    "generate_dataset('html', 'arithmetic', 100, 100, 'out_arithmetic')"
   ]
  },
  {
   "cell_type": "code",
   "execution_count": 9,
   "id": "b7560749-f8a3-4830-9b6f-b5feae3e0d4a",
   "metadata": {},
   "outputs": [],
   "source": [
    "generate_dataset('tsv', 'item', 100, 100, 'out_item')\n",
    "generate_dataset('csv', 'item', 100, 100, 'out_item')\n",
    "generate_dataset('html', 'item', 100, 100, 'out_item')"
   ]
  },
  {
   "cell_type": "code",
   "execution_count": 10,
   "id": "2c66ced7-0987-49d8-b33d-681d54eb3043",
   "metadata": {},
   "outputs": [],
   "source": [
    "generate_dataset('csv', 'item', 50, 100, 'out_item_2')\n",
    "generate_dataset('csv', 'item', 10, 5, 'out_item_3')"
   ]
  }
 ],
 "metadata": {
  "kernelspec": {
   "display_name": "Python 3 (ipykernel)",
   "language": "python",
   "name": "python3"
  },
  "language_info": {
   "codemirror_mode": {
    "name": "ipython",
    "version": 3
   },
   "file_extension": ".py",
   "mimetype": "text/x-python",
   "name": "python",
   "nbconvert_exporter": "python",
   "pygments_lexer": "ipython3",
   "version": "3.11.10"
  }
 },
 "nbformat": 4,
 "nbformat_minor": 5
}
